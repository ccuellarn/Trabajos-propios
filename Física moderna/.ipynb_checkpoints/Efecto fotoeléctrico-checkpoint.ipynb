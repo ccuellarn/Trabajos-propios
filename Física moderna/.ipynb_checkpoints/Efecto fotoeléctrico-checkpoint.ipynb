{
 "cells": [
  {
   "cell_type": "code",
   "execution_count": 2,
   "metadata": {},
   "outputs": [],
   "source": [
    "#Librerias\n",
    "import pandas as pd\n",
    "import numpy as np\n",
    "import matplotlib.pyplot as plt\n",
    "import sympy as sym"
   ]
  },
  {
   "cell_type": "code",
   "execution_count": 78,
   "metadata": {},
   "outputs": [],
   "source": [
    "Azul = np.array([[0.5,4.5,8.0,9.0,10.0],[6.94,6.89,6.85,6.84,6.82]])\n",
    "Amarillo = np.array([[0.5,4.5,8.0,9.0,10.0],[5.17,4.5,4.17,4.09,4.01]])\n",
    "Verde = np.array([[0.5,4.5,8.0,9.0,10.0],[5.95,5.86,5.8,5.78,5.75]])\n",
    "Rojo = np.array([[0.5,4.5,8.0,9.0,10.0],[3.59,3.03,2.63,2.55,2.43]])\n",
    "\n",
    "def GetFit(x,y,n=1):\n",
    "    \n",
    "    l = x.shape[0]\n",
    "    b = y\n",
    "    \n",
    "    A = np.ones((l,n+1))\n",
    "    \n",
    "    for i in range(1,n+1):\n",
    "        A[:,i] = x**i\n",
    "        \n",
    "    AT = np.dot(A.T,A)\n",
    "    bT = np.dot(A.T,b)\n",
    "    \n",
    "    xsol = np.linalg.solve(AT,bT)\n",
    "    \n",
    "    return xsol\n",
    "\n",
    "def GetModel(x,p):\n",
    "    y = 0\n",
    "    for n in range(len(p)):\n",
    "        y += p[n]*x**n\n",
    "        \n",
    "    return y\n",
    "\n",
    "_x = np.linspace(0,10,2)"
   ]
  },
  {
   "cell_type": "code",
   "execution_count": 93,
   "metadata": {},
   "outputs": [],
   "source": [
    "n=2\n",
    "N=3\n",
    "def GetError(x,y,p):\n",
    "    \n",
    "    l = x.shape[0]\n",
    "    \n",
    "    A = np.ones((l,n+1))\n",
    "    \n",
    "    for i in range(1,n+1):\n",
    "        A[:,i] = x**i\n",
    "    \n",
    "    # Residuos\n",
    "    R = y - np.dot(A,p)\n",
    "    \n",
    "    sigma2 = np.dot( R.T, R )/(N-len(p))\n",
    "    \n",
    "    CVar = sigma2*np.linalg.inv(np.dot(A.T,A))\n",
    "    \n",
    "    return CVar\n"
   ]
  },
  {
   "cell_type": "code",
   "execution_count": 85,
   "metadata": {},
   "outputs": [
    {
     "name": "stderr",
     "output_type": "stream",
     "text": [
      "No handles with labels found to put in legend.\n"
     ]
    },
    {
     "data": {
      "image/png": "[encoded data removed]",
      "text/plain": [
       "<Figure size 432x288 with 1 Axes>"
      ]
     },
     "metadata": {
      "needs_background": "light"
     },
     "output_type": "display_data"
    }
   ],
   "source": [
    "param_az = GetFit(Azul[0],Azul[1])\n",
    "ym_az = GetModel(_x,param_az)\n",
    "Cov_az = GetError(Azul[0],Azul[1],param_az)\n",
    "sigma_az = round(np.sum(np.sqrt(np.diag(Cov_az)))/3,2)\n",
    "\n",
    "param_a = GetFit(Amarillo[0],Amarillo[1])\n",
    "ym_a = GetModel(_x,param_a)\n",
    "Cov_a = GetError(Amarillo[0],Amarillo[1],param_a)\n",
    "sigma_a = round(np.sum(np.sqrt(np.diag(Cov_a)))/3,2)\n",
    "\n",
    "param_r = GetFit(Rojo[0],Rojo[1])\n",
    "ym_r = GetModel(_x,param_r)\n",
    "#Cov_r = GetError(Rojo[0],Rojo[1],param_r)\n",
    "#sigma_r = round(np.sum(np.sqrt(np.diag(Cov_r)))/3,2)\n",
    "\n",
    "param_v = GetFit(Verde[0],Verde[1])\n",
    "ym_v = GetModel(_x,param_v)\n",
    "#Cov_v = GetError(Verde[0],Verde[1],param_v)\n",
    "#sigma_v = round(np.sum(np.sqrt(np.diag(Cov_v)))/3,2)\n",
    "\n",
    "plt.errorbar(Azul[0], Azul[1],xerr=0.25,capsize=1.5,color='b',fmt='.')\n",
    "plt.errorbar(Amarillo[0],Amarillo[1],color='y',xerr=0.25,capsize=1.5,fmt='.')\n",
    "plt.errorbar(Rojo[0],Rojo[1],color='r',xerr=0.25,capsize=1.5,fmt='.')\n",
    "plt.errorbar(Verde[0],Verde[1],color='g',xerr=0.25,capsize=1.5,fmt='.')\n",
    "\n",
    "plt.plot(_x,ym_az,color='b')\n",
    "plt.plot(_x,ym_a,color='y')\n",
    "plt.plot(_x,ym_r,color='r')\n",
    "plt.plot(_x,ym_v,color='g')\n",
    "\n",
    "plt.title('Gráfica voltaje vs corriente')\n",
    "plt.xlabel('Corriente (mA)')\n",
    "plt.ylabel('Voltaje (V)')\n",
    "\n",
    "plt.ylim(2,8)\n",
    "\n",
    "plt.text(6, 7.5, 'y={}x + {}'.format(round(param_az[1],2),round(param_az[0],2)),color='b')\n",
    "plt.text(6,7.1,'R^2= {}'.format(0.97),color='b')\n",
    "plt.text(6, 6.4, 'y={}x + {}'.format(round(param_v[1],2),round(param_v[0],2)),color='g')\n",
    "plt.text(6,6,'R^2= {}'.format(0.98),color='g')\n",
    "plt.text(6, 5, 'y={}x + {}'.format(round(param_a[1],2),round(param_a[0],2)),color='y')\n",
    "plt.text(6,4.6,'R^2= {}'.format(0.23),color='y')\n",
    "plt.text(6, 3.4, 'y={}x + {}'.format(round(param_r[1],2),round(param_r[0],2)),color='r')\n",
    "plt.text(6,3,'R^2= {}'.format(0.38),color='r')\n",
    "\n",
    "plt.legend()\n",
    "plt.show()"
   ]
  },
  {
   "cell_type": "code",
   "execution_count": 21,
   "metadata": {},
   "outputs": [],
   "source": [
    "V_fazul = param_az[0]\n",
    "V_famari = param_a[0]\n",
    "V_frojo = param_r[0]\n",
    "V_fverde = param_v[0]"
   ]
  },
  {
   "cell_type": "code",
   "execution_count": 22,
   "metadata": {},
   "outputs": [
    {
     "data": {
      "text/html": [
       "<div>\n",
       "<style scoped>\n",
       "    .dataframe tbody tr th:only-of-type {\n",
       "        vertical-align: middle;\n",
       "    }\n",
       "\n",
       "    .dataframe tbody tr th {\n",
       "        vertical-align: top;\n",
       "    }\n",
       "\n",
       "    .dataframe thead th {\n",
       "        text-align: right;\n",
       "    }\n",
       "</style>\n",
       "<table border=\"1\" class=\"dataframe\">\n",
       "  <thead>\n",
       "    <tr style=\"text-align: right;\">\n",
       "      <th></th>\n",
       "      <th>0</th>\n",
       "      <th>1</th>\n",
       "    </tr>\n",
       "  </thead>\n",
       "  <tbody>\n",
       "    <tr>\n",
       "      <th>0</th>\n",
       "      <td>1.112892e-18</td>\n",
       "      <td>6.396588e+14</td>\n",
       "    </tr>\n",
       "    <tr>\n",
       "      <th>1</th>\n",
       "      <td>5.801753e-19</td>\n",
       "      <td>4.552352e+14</td>\n",
       "    </tr>\n",
       "    <tr>\n",
       "      <th>2</th>\n",
       "      <td>8.265384e-19</td>\n",
       "      <td>5.084746e+14</td>\n",
       "    </tr>\n",
       "    <tr>\n",
       "      <th>3</th>\n",
       "      <td>9.545436e-19</td>\n",
       "      <td>5.291005e+14</td>\n",
       "    </tr>\n",
       "  </tbody>\n",
       "</table>\n",
       "</div>"
      ],
      "text/plain": [
       "              0             1\n",
       "0  1.112892e-18  6.396588e+14\n",
       "1  5.801753e-19  4.552352e+14\n",
       "2  8.265384e-19  5.084746e+14\n",
       "3  9.545436e-19  5.291005e+14"
      ]
     },
     "execution_count": 22,
     "metadata": {},
     "output_type": "execute_result"
    }
   ],
   "source": [
    "#grafica del potencial de frenadovs la frduencia usando la ecuacion de energia\n",
    "E = 1.602176634e-19\n",
    "c = 3e8\n",
    "K_azul= E*V_fazul\n",
    "K_rojo= E*V_frojo\n",
    "K_verde= E*V_fverde\n",
    "K_amarillo= E*V_famari\n",
    "\n",
    "f = [c/469e-9,c/659e-9,c/590e-9,c/567e-9]\n",
    "K = pd.DataFrame([[K_azul,f[0]],[K_rojo,f[1]],[K_amarillo,f[2]],[K_verde,f[3]]])\n",
    "K"
   ]
  },
  {
   "cell_type": "code",
   "execution_count": 123,
   "metadata": {},
   "outputs": [
    {
     "name": "stdout",
     "output_type": "stream",
     "text": [
      "[-5.84868651e-19  2.72624078e-33]\n",
      "-214533013784224.47\n"
     ]
    },
    {
     "data": {
      "image/png": "[encoded data removed]",
      "text/plain": [
       "<Figure size 432x288 with 1 Axes>"
      ]
     },
     "metadata": {
      "needs_background": "light"
     },
     "output_type": "display_data"
    }
   ],
   "source": [
    "_x = np.linspace(3e14,8e14,2)\n",
    "param = GetFit(K[1],K[0])\n",
    "ym = GetModel(_x,param)\n",
    "#Cov_az = GetError(K[0],K[1],param)\n",
    "#sigma_az = round(np.sum(np.sqrt(np.diag(Cov_az)))/3,2)\n",
    "\n",
    "plt.plot(_x,ym,color='k',label = \"Regresion lineal\")\n",
    "\n",
    "plt.errorbar(f[0],K_azul,color='b',yerr=0.5e-19,capsize=1.5,fmt='.')\n",
    "plt.errorbar(f[1],K_rojo,color='r',yerr=0.8e-19,capsize=1.5,fmt='.')\n",
    "plt.errorbar(f[2],K_verde,color='g',yerr=0.9e-19,capsize=1.5,fmt='.')\n",
    "plt.errorbar(f[3],K_amarillo,color='y',yerr=0.5e-19,capsize=1.5,fmt='.')\n",
    "\n",
    "plt.text(5.04e14,0.67e-18, 'y={}x - {}'.format(2.72,5.84e-19),fontsize=12)\n",
    "plt.text(5e14,0.54e-18, 'R^2={}'.format(0.037),fontsize=12)\n",
    "\n",
    "#plt.errorbar(f[0],K_azul,yerr=0.025,capsize=0.5,linestyle=None,color='b')\n",
    "\n",
    "plt.title('Velocidad de frenado vs frecuencia')\n",
    "plt.ylabel('Vf (m/s)')\n",
    "plt.xlabel('frecuencia (Hz)')\n",
    "plt.legend()\n",
    "plt.show\n",
    "print(param)\n",
    "print( param[0]/param[1])"
   ]
  },
  {
   "cell_type": "code",
   "execution_count": null,
   "metadata": {},
   "outputs": [
    {
     "data": {
      "text/plain": [
       "-2.7281791877934274e-33"
      ]
     },
     "execution_count": 26,
     "metadata": {},
     "output_type": "execute_result"
    }
   ],
   "source": [
    "# constante de planck\n",
    "#como eV = hf -phi h= eV -phi / f\n",
    "h = (2.72e-33*E -5.81102167e-19)/2.13e14 \n",
    "\n",
    "#funcion de trabajo\n",
    "phi = -5.81102167e-19 #eV\n",
    "#error\n",
    "\n",
    "#frecuencia mínima \n",
    "#f = 2.13e14\n",
    "\n",
    "#estos errores son la propagacion de error osea la incertidumbre\n",
    "#error de la constante de planck\n",
    "#np.sqrt(((E/2.13e14) *0.002)**2 + (-(1/((2.13e14)**2))*0.5)**2)\n",
    "\n",
    "#error del voltaje de frenado\n",
    "#m Vf + b = I, Vf = I-b /m\n",
    "#np.abs(1/m * 0.002)\n",
    "\n",
    "#como no tenemos las incertidumbres de las longitudes de onda no se tienen en cuenta\n",
    "def error_vf(m):\n",
    "    return np.abs(1/m * 0.002)\n",
    "\n",
    "azul = error_vf(-81.60)\n",
    "amarillo = error_vf(-8.09)\n",
    "rojo = error_vf(-8.21)\n",
    "verde = error_vf(-49.08)\n",
    "\n",
    "h"
   ]
  },
  {
   "cell_type": "code",
   "execution_count": 96,
   "metadata": {},
   "outputs": [],
   "source": [
    "#Segunda parte\n",
    "v_45 = pd.DataFrame([[0.5,0.66],[4.5,0.658],[8.0,0.656],[9.0,0.653],[10.0,0.652]])\n",
    "v_90 = pd.DataFrame([[0.5,0.996],[4.5,0.879],[8.0,0.824],[9.0,0.809],[10.0,0.792]])\n",
    "_x = np.linspace(0,10,2)\n",
    "\n",
    "X = v_90[0]\n",
    "Y= v_90[1]"
   ]
  },
  {
   "cell_type": "code",
   "execution_count": 111,
   "metadata": {},
   "outputs": [
    {
     "name": "stderr",
     "output_type": "stream",
     "text": [
      "No handles with labels found to put in legend.\n"
     ]
    },
    {
     "data": {
      "text/plain": [
       "array([ 0.99427348, -0.02098023])"
      ]
     },
     "execution_count": 111,
     "metadata": {},
     "output_type": "execute_result"
    },
    {
     "data": {
      "image/png": "[encoded data removed]",
      "text/plain": [
       "<Figure size 432x288 with 1 Axes>"
      ]
     },
     "metadata": {
      "needs_background": "light"
     },
     "output_type": "display_data"
    }
   ],
   "source": [
    "param_1 = GetFit(v_45[0],v_45[1])\n",
    "ym_1 = GetModel(_x,param_1)\n",
    "\n",
    "param = GetFit(v_90[0],v_90[1])\n",
    "ym = GetModel(_x,param)\n",
    "\n",
    "plt.errorbar(v_45[0],v_45[1],xerr=0.25,capsize=1.9,color='b',fmt='.')\n",
    "plt.errorbar(v_90[0],v_90[1],xerr=0.25,capsize=2.2,color='c',fmt='.')\n",
    "\n",
    "plt.plot(_x,ym_1,color='b')\n",
    "plt.plot(_x,ym,color='c')\n",
    "\n",
    "plt.text(5,.72, 'y={}x + {}'.format(round(param_1[1],3),round(param_1[0],2)),color='b')\n",
    "plt.text(5,.68,'R^2= {}'.format(0.98),color='b')\n",
    "plt.text(5, 0.94, 'y={}x + {}'.format(round(param[1],2),round(param[0],2)),color='c')\n",
    "plt.text(5,0.9,'R^2= {}'.format(0.67),color='c')\n",
    "\n",
    "plt.ylim(0.55,1.1)\n",
    "\n",
    "plt.title('Gráfica voltaje vs corriente')\n",
    "plt.xlabel('Corriente (mA)')\n",
    "plt.ylabel('Voltaje (V)')\n",
    "plt.legend()\n",
    "plt.show\n",
    "param"
   ]
  }
 ],
 "metadata": {
  "kernelspec": {
   "display_name": "base",
   "language": "python",
   "name": "python3"
  },
  "language_info": {
   "codemirror_mode": {
    "name": "ipython",
    "version": 3
   },
   "file_extension": ".py",
   "mimetype": "text/x-python",
   "name": "python",
   "nbconvert_exporter": "python",
   "pygments_lexer": "ipython3",
   "version": "3.9.7"
  },
  "orig_nbformat": 4
 },
 "nbformat": 4,
 "nbformat_minor": 2
}

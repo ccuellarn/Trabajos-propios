{
 "cells": [
  {
   "cell_type": "code",
   "execution_count": 5,
   "metadata": {},
   "outputs": [],
   "source": [
    "import numpy as np\n",
    "import matplotlib.pyplot as plt\n",
    "import pandas as pd\n",
    "import sympy as sym\n",
    "from scipy import constants as C"
   ]
  },
  {
   "cell_type": "code",
   "execution_count": 53,
   "metadata": {},
   "outputs": [
    {
     "data": {
      "text/plain": [
       "[<matplotlib.lines.Line2D at 0x181f2889880>]"
      ]
     },
     "execution_count": 53,
     "metadata": {},
     "output_type": "execute_result"
    },
    {
     "data": {
      "image/png": "[encoded data removed]",
      "text/plain": [
       "<Figure size 432x288 with 1 Axes>"
      ]
     },
     "metadata": {
      "needs_background": "light"
     },
     "output_type": "display_data"
    }
   ],
   "source": [
    "#intento sin unidades naturales\n",
    "g=C.g #m/s^2\n",
    "qe=C.e #C\n",
    "mu=1.28e-8#J\n",
    "Z=83\n",
    "r_ = np.linspace(1,20,1000)\n",
    "\n",
    "def function(r):\n",
    "    return  - ((Z*qe**2)/r)\n",
    "#-(g**2)*((np.exp(-mu*r))/r) #\n",
    "\n",
    "plt.plot(r_,function(r_))\n"
   ]
  },
  {
   "cell_type": "code",
   "execution_count": 2,
   "metadata": {},
   "outputs": [
    {
     "name": "stdout",
     "output_type": "stream",
     "text": [
      "-112.20934152229474\n",
      "[3.]\n"
     ]
    },
    {
     "data": {
      "image/png": "[encoded data removed]",
      "text/plain": [
       "<Figure size 432x288 with 1 Axes>"
      ]
     },
     "metadata": {
      "needs_background": "light"
     },
     "output_type": "display_data"
    }
   ],
   "source": [
    "g=1.16e-23 #GeV^-2\n",
    "#g = 0.156\n",
    "#g = 1\n",
    "qe=0.332\n",
    "#mu=0 #GeV\n",
    "#Z=1\n",
    "\n",
    "# X dada para valores:\n",
    "r_ = np.linspace(0.1,3,1000)\n",
    "\n",
    "# Definimos la función\n",
    "def function(r,Z,mu):\n",
    "    return  -(g**2)*((np.exp(-mu*r))/r) \n",
    "    #return ((Z*qe**2)/r)\n",
    "\n",
    "print(np.log(g**2/80*qe**2))\n",
    "\n",
    "fig,ax=plt.subplots()\n",
    "#ax.plot(r_,function(r_,1,1))\n",
    "#ax.plot(r_,function(r_,15,90))\n",
    "#ax.plot(r_,function(r_,20,60))\n",
    "#ax.plot(r_,function(r_,50,30))\n",
    "y = function(r_,80,1)\n",
    "ax.plot(r_,y)\n",
    "#ax.set_yscale('log')\n",
    "plt.grid()\n",
    "ii = np.where(np.amax(y) == y)\n",
    "print(r_[ii])"
   ]
  },
  {
   "cell_type": "code",
   "execution_count": 3,
   "metadata": {},
   "outputs": [],
   "source": [
    "\n",
    "Z=1\n",
    "mu=1\n",
    "g=1.16e4 #GeV^-2\n",
    "qe=0.302\n",
    "\n",
    "def function(r):\n",
    "    return  np.exp(-mu*r)*(1 + mu*r)- ((Z*qe**2)/(g**2))\n",
    "def dfunction(r):\n",
    "    return -(mu**2)*np.exp(-mu*r)\n",
    " \n",
    "#FindingRoots(function,r_,dfunction)"
   ]
  },
  {
   "cell_type": "code",
   "execution_count": 4,
   "metadata": {},
   "outputs": [
    {
     "data": {
      "text/plain": [
       "-0.3094149375535747"
      ]
     },
     "execution_count": 4,
     "metadata": {},
     "output_type": "execute_result"
    }
   ],
   "source": [
    "g=1.16e-5 #GeV^-2\n",
    "qe=0.302\n",
    "mu=80\n",
    "Z=83\n",
    "r=np.log((g**2)/((qe**2)*Z))/mu\n",
    "r\n",
    "#143 pm\n",
    "#208.6e-12"
   ]
  }
 ],
 "metadata": {
  "kernelspec": {
   "display_name": "base",
   "language": "python",
   "name": "python3"
  },
  "language_info": {
   "codemirror_mode": {
    "name": "ipython",
    "version": 3
   },
   "file_extension": ".py",
   "mimetype": "text/x-python",
   "name": "python",
   "nbconvert_exporter": "python",
   "pygments_lexer": "ipython3",
   "version": "3.9.7"
  }
 },
 "nbformat": 4,
 "nbformat_minor": 2
}
